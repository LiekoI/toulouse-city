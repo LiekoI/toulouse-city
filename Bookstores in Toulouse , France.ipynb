{
    "cells": [
        {
            "cell_type": "code",
            "execution_count": 1,
            "metadata": {},
            "outputs": [
                {
                    "name": "stdout",
                    "output_type": "stream",
                    "text": "Collecting folium\n\u001b[?25l  Downloading https://files.pythonhosted.org/packages/a4/f0/44e69d50519880287cc41e7c8a6acc58daa9a9acf5f6afc52bcc70f69a6d/folium-0.11.0-py2.py3-none-any.whl (93kB)\n\u001b[K     |\u2588\u2588\u2588\u2588\u2588\u2588\u2588\u2588\u2588\u2588\u2588\u2588\u2588\u2588\u2588\u2588\u2588\u2588\u2588\u2588\u2588\u2588\u2588\u2588\u2588\u2588\u2588\u2588\u2588\u2588\u2588\u2588| 102kB 7.1MB/s ta 0:00:011\n\u001b[?25hRequirement already satisfied: jinja2>=2.9 in /opt/conda/envs/Python36/lib/python3.6/site-packages (from folium) (2.10)\nCollecting branca>=0.3.0 (from folium)\n  Downloading https://files.pythonhosted.org/packages/13/fb/9eacc24ba3216510c6b59a4ea1cd53d87f25ba76237d7f4393abeaf4c94e/branca-0.4.1-py3-none-any.whl\nRequirement already satisfied: requests in /opt/conda/envs/Python36/lib/python3.6/site-packages (from folium) (2.21.0)\nRequirement already satisfied: numpy in /opt/conda/envs/Python36/lib/python3.6/site-packages (from folium) (1.15.4)\nRequirement already satisfied: MarkupSafe>=0.23 in /opt/conda/envs/Python36/lib/python3.6/site-packages (from jinja2>=2.9->folium) (1.1.0)\nRequirement already satisfied: idna<2.9,>=2.5 in /opt/conda/envs/Python36/lib/python3.6/site-packages (from requests->folium) (2.8)\nRequirement already satisfied: chardet<3.1.0,>=3.0.2 in /opt/conda/envs/Python36/lib/python3.6/site-packages (from requests->folium) (3.0.4)\nRequirement already satisfied: urllib3<1.25,>=1.21.1 in /opt/conda/envs/Python36/lib/python3.6/site-packages (from requests->folium) (1.24.1)\nRequirement already satisfied: certifi>=2017.4.17 in /opt/conda/envs/Python36/lib/python3.6/site-packages (from requests->folium) (2020.6.20)\nInstalling collected packages: branca, folium\nSuccessfully installed branca-0.4.1 folium-0.11.0\n"
                }
            ],
            "source": "import pandas as pd\nimport json\n\n!pip install folium\nimport folium\nfrom folium import plugins"
        },
        {
            "cell_type": "code",
            "execution_count": 2,
            "metadata": {},
            "outputs": [
                {
                    "name": "stdout",
                    "output_type": "stream",
                    "text": "Your credentails:\nCLIENT_ID: *************\nCLIENT_SECRET:*************\n"
                }
            ],
            "source": "#hiden cell\nCLIENT_ID = '***************' # your Foursquare ID\nCLIENT_SECRET = '********************' # your Foursquare Secret\nVERSION = '20180604'\nLIMIT = 40\nprint('Your credentails:')\nprint('CLIENT_ID: ' + CLIENT_ID)\nprint('CLIENT_SECRET:' + CLIENT_SECRET)"
        },
        {
            "cell_type": "code",
            "execution_count": 17,
            "metadata": {},
            "outputs": [],
            "source": "import requests\n\nrequest_parameters = {\n    \"client_id\": CLIENT_ID,\n    \"client_secret\": CLIENT_SECRET,\n    \"v\": '20180605',\n    \"categoryId\": \"4bf58dd8d48988d114951735\",#category ID Bookstore\n    \"near\": \"Toulouse\",\n    \"radius\": 4000,\n    \"limit\": 50}\n\ndata = requests.get(\"https://api.foursquare.com/v2/venues/explore\", params=request_parameters)"
        },
        {
            "cell_type": "code",
            "execution_count": 18,
            "metadata": {},
            "outputs": [
                {
                    "data": {
                        "text/plain": "dict_keys(['geocode', 'headerLocation', 'headerFullLocation', 'headerLocationGranularity', 'query', 'totalResults', 'suggestedBounds', 'groups'])"
                    },
                    "execution_count": 18,
                    "metadata": {},
                    "output_type": "execute_result"
                }
            ],
            "source": "d = data.json()[\"response\"]\nd.keys()"
        },
        {
            "cell_type": "code",
            "execution_count": 19,
            "metadata": {},
            "outputs": [
                {
                    "data": {
                        "text/plain": "('city', 'Toulouse', 'Toulouse')"
                    },
                    "execution_count": 19,
                    "metadata": {},
                    "output_type": "execute_result"
                }
            ],
            "source": "d[\"headerLocationGranularity\"], d[\"headerLocation\"], d[\"headerFullLocation\"]"
        },
        {
            "cell_type": "code",
            "execution_count": 20,
            "metadata": {},
            "outputs": [
                {
                    "data": {
                        "text/plain": "({'ne': {'lat': 43.61182128582971, 'lng': 1.4478726804999997},\n  'sw': {'lat': 43.60150557757607, 'lng': 1.4410379295000002}},\n 7)"
                    },
                    "execution_count": 20,
                    "metadata": {},
                    "output_type": "execute_result"
                }
            ],
            "source": "d[\"suggestedBounds\"], d[\"totalResults\"]"
        },
        {
            "cell_type": "code",
            "execution_count": 21,
            "metadata": {},
            "outputs": [
                {
                    "data": {
                        "text/plain": "{'what': '',\n 'where': 'toulouse',\n 'center': {'lat': 43.60426, 'lng': 1.44367},\n 'displayString': 'Toulouse, France',\n 'cc': 'FR',\n 'geometry': {'bounds': {'ne': {'lat': 43.66907994633145,\n    'lng': 1.5156179631414892},\n   'sw': {'lat': 43.53262007719572, 'lng': 1.2822381092561068}}},\n 'slug': 'toulouse-france',\n 'longId': '72057594040900251'}"
                    },
                    "execution_count": 21,
                    "metadata": {},
                    "output_type": "execute_result"
                }
            ],
            "source": "d[\"geocode\"]"
        },
        {
            "cell_type": "code",
            "execution_count": 22,
            "metadata": {},
            "outputs": [
                {
                    "data": {
                        "text/plain": "dict_keys(['type', 'name', 'items'])"
                    },
                    "execution_count": 22,
                    "metadata": {},
                    "output_type": "execute_result"
                }
            ],
            "source": "d[\"groups\"][0].keys()"
        },
        {
            "cell_type": "code",
            "execution_count": 23,
            "metadata": {},
            "outputs": [
                {
                    "data": {
                        "text/plain": "('Recommended Places', 'recommended')"
                    },
                    "execution_count": 23,
                    "metadata": {},
                    "output_type": "execute_result"
                }
            ],
            "source": "d[\"groups\"][0][\"type\"], d[\"groups\"][0][\"name\"]"
        },
        {
            "cell_type": "code",
            "execution_count": 24,
            "metadata": {},
            "outputs": [
                {
                    "name": "stdout",
                    "output_type": "stream",
                    "text": "number of items: 7\n"
                },
                {
                    "data": {
                        "text/plain": "{'reasons': {'count': 0,\n  'items': [{'summary': 'This spot is popular',\n    'type': 'general',\n    'reasonName': 'globalInteractionReason'}]},\n 'venue': {'id': '4bc87fb115a7ef3b7d297bda',\n  'name': 'Ombres Blanches',\n  'location': {'address': '50, rue Gambetta',\n   'lat': 43.60314614926247,\n   'lng': 1.4425149834433009,\n   'labeledLatLngs': [{'label': 'display',\n     'lat': 43.60314614926247,\n     'lng': 1.4425149834433009}],\n   'postalCode': '31000',\n   'cc': 'FR',\n   'city': 'Toulouse',\n   'state': 'Midi-Pyr\u00e9n\u00e9es',\n   'country': 'France',\n   'formattedAddress': ['50, rue Gambetta', '31000 Toulouse', 'France']},\n  'categories': [{'id': '4bf58dd8d48988d114951735',\n    'name': 'Bookstore',\n    'pluralName': 'Bookstores',\n    'shortName': 'Bookstore',\n    'icon': {'prefix': 'https://ss3.4sqi.net/img/categories_v2/shops/bookstore_',\n     'suffix': '.png'},\n    'primary': True}],\n  'photos': {'count': 0, 'groups': []}},\n 'referralId': 'e-0-4bc87fb115a7ef3b7d297bda-0'}"
                    },
                    "execution_count": 24,
                    "metadata": {},
                    "output_type": "execute_result"
                }
            ],
            "source": "items = d[\"groups\"][0][\"items\"]\nprint(\"number of items: %i\" % len(items))\nitems[0]"
        },
        {
            "cell_type": "code",
            "execution_count": 28,
            "metadata": {},
            "outputs": [
                {
                    "name": "stdout",
                    "output_type": "stream",
                    "text": "{'address': '50, rue Gambetta', 'lat': 43.60314614926247, 'lng': 1.4425149834433009, 'labeledLatLngs': [{'label': 'display', 'lat': 43.60314614926247, 'lng': 1.4425149834433009}], 'postalCode': '31000', 'cc': 'FR', 'city': 'Toulouse', 'state': 'Midi-Pyr\u00e9n\u00e9es', 'country': 'France', 'formattedAddress': ['50, rue Gambetta', '31000 Toulouse', 'France']}\n{'address': '3 Rue du Taur', 'lat': 43.60486219648067, 'lng': 1.4428243550227642, 'labeledLatLngs': [{'label': 'display', 'lat': 43.60486219648067, 'lng': 1.4428243550227642}], 'postalCode': '31000', 'cc': 'FR', 'city': 'Toulouse', 'state': 'Midi-Pyr\u00e9n\u00e9es', 'country': 'France', 'formattedAddress': ['3 Rue du Taur', '31000 Toulouse', 'France']}\n{'address': '10 rue Baour Lormian', 'lat': 43.602985, 'lng': 1.44479, 'labeledLatLngs': [{'label': 'display', 'lat': 43.602985, 'lng': 1.44479}], 'postalCode': '31000', 'cc': 'FR', 'city': 'Toulouse', 'state': 'Languedoc-Roussillon-Midi-Pyr\u00e9n\u00e9es', 'country': 'France', 'formattedAddress': ['10 rue Baour Lormian', '31000 Toulouse', 'France']}\n{'address': 'Rue Romiguieres', 'crossStreet': 'Rue Mirepoix', 'lat': 43.60473895660127, 'lng': 1.4418144653404976, 'labeledLatLngs': [{'label': 'display', 'lat': 43.60473895660127, 'lng': 1.4418144653404976}], 'postalCode': '31000', 'cc': 'FR', 'city': 'Toulouse', 'state': 'Midi-Pyr\u00e9n\u00e9es', 'country': 'France', 'formattedAddress': ['Rue Romiguieres (Rue Mirepoix)', '31000 Toulouse', 'France']}\n{'address': '18 Rue L\u00e9on Gambetta', 'lat': 43.6025141, 'lng': 1.4413486, 'labeledLatLngs': [{'label': 'display', 'lat': 43.6025141, 'lng': 1.4413486}], 'postalCode': '31000', 'cc': 'FR', 'city': 'Toulouse', 'state': 'Occitanie', 'country': 'France', 'formattedAddress': ['18 Rue L\u00e9on Gambetta', '31000 Toulouse', 'France']}\n{'lat': 43.60197447340578, 'lng': 1.442259240455648, 'labeledLatLngs': [{'label': 'display', 'lat': 43.60197447340578, 'lng': 1.442259240455648}], 'cc': 'FR', 'country': 'France', 'formattedAddress': ['France']}\n{'address': '31 Rue Matabiau', 'lat': 43.61135239, 'lng': 1.44756201, 'labeledLatLngs': [{'label': 'display', 'lat': 43.61135239, 'lng': 1.44756201}], 'postalCode': '31000', 'cc': 'FR', 'city': 'Toulouse', 'state': 'Occitanie', 'country': 'France', 'formattedAddress': ['31 Rue Matabiau', '31000 Toulouse', 'France']}\nfound 6 Bookstore\n"
                },
                {
                    "data": {
                        "text/html": "<div>\n<style scoped>\n    .dataframe tbody tr th:only-of-type {\n        vertical-align: middle;\n    }\n\n    .dataframe tbody tr th {\n        vertical-align: top;\n    }\n\n    .dataframe thead th {\n        text-align: right;\n    }\n</style>\n<table border=\"1\" class=\"dataframe\">\n  <thead>\n    <tr style=\"text-align: right;\">\n      <th></th>\n      <th>uid</th>\n      <th>name</th>\n      <th>shortname</th>\n      <th>address</th>\n      <th>postalcode</th>\n      <th>lat</th>\n      <th>lng</th>\n    </tr>\n  </thead>\n  <tbody>\n    <tr>\n      <th>0</th>\n      <td>4bc87fb115a7ef3b7d297bda</td>\n      <td>Ombres Blanches</td>\n      <td>Bookstore</td>\n      <td></td>\n      <td>31000</td>\n      <td>43.603146</td>\n      <td>1.442515</td>\n    </tr>\n    <tr>\n      <th>1</th>\n      <td>4be96c46fbbb9c74153f1e8e</td>\n      <td>Gibert Joseph</td>\n      <td>Bookstore</td>\n      <td></td>\n      <td>31000</td>\n      <td>43.604862</td>\n      <td>1.442824</td>\n    </tr>\n    <tr>\n      <th>2</th>\n      <td>59c4ec2ac4df1d02e45f965b</td>\n      <td>la phim \u00e9dition</td>\n      <td>Bookstore</td>\n      <td></td>\n      <td>31000</td>\n      <td>43.602985</td>\n      <td>1.444790</td>\n    </tr>\n    <tr>\n      <th>3</th>\n      <td>4d848c3ff1e56ea844b5768a</td>\n      <td>B\u00e9d\u00e9cin\u00e9</td>\n      <td>Bookstore</td>\n      <td></td>\n      <td>31000</td>\n      <td>43.604739</td>\n      <td>1.441814</td>\n    </tr>\n    <tr>\n      <th>4</th>\n      <td>52331ab611d2031aaf8a89d5</td>\n      <td>Librairie Des Suds</td>\n      <td>Bookstore</td>\n      <td></td>\n      <td>31000</td>\n      <td>43.602514</td>\n      <td>1.441349</td>\n    </tr>\n  </tbody>\n</table>\n</div>",
                        "text/plain": "                        uid                name  shortname address postalcode  \\\n0  4bc87fb115a7ef3b7d297bda     Ombres Blanches  Bookstore              31000   \n1  4be96c46fbbb9c74153f1e8e       Gibert Joseph  Bookstore              31000   \n2  59c4ec2ac4df1d02e45f965b     la phim \u00e9dition  Bookstore              31000   \n3  4d848c3ff1e56ea844b5768a            B\u00e9d\u00e9cin\u00e9  Bookstore              31000   \n4  52331ab611d2031aaf8a89d5  Librairie Des Suds  Bookstore              31000   \n\n         lat       lng  \n0  43.603146  1.442515  \n1  43.604862  1.442824  \n2  43.602985  1.444790  \n3  43.604739  1.441814  \n4  43.602514  1.441349  "
                    },
                    "execution_count": 28,
                    "metadata": {},
                    "output_type": "execute_result"
                }
            ],
            "source": "df_raw = []\nfor item in items:\n    venue = item[\"venue\"]\n    categories, uid, name, location = venue[\"categories\"], venue[\"id\"], venue[\"name\"], venue[\"location\"]\n    print(location)\n    assert len(categories) == 1\n    shortname = categories[0][\"shortName\"]\n    address =  ''\n    if hasattr(location, 'address'):\n      address = location['address']\n    if not \"postalCode\" in location:\n        continue\n    postalcode = location[\"postalCode\"]\n    lat = location[\"lat\"]\n    lng = location[\"lng\"]\n    datarow = (uid, name, shortname, address, postalcode, lat, lng)\n    df_raw.append(datarow)\ndf = pd.DataFrame(df_raw, columns=[\"uid\", \"name\", \"shortname\", \"address\", \"postalcode\", \"lat\", \"lng\"])\nprint(\"found %i Bookstore\" % len(df))\ndf.head()"
        },
        {
            "cell_type": "code",
            "execution_count": 29,
            "metadata": {},
            "outputs": [
                {
                    "data": {
                        "text/plain": "{'lat': 43.60426, 'lng': 1.44367}"
                    },
                    "execution_count": 29,
                    "metadata": {},
                    "output_type": "execute_result"
                }
            ],
            "source": "toulouse_center = d[\"geocode\"][\"center\"]\ntoulouse_center"
        },
        {
            "cell_type": "code",
            "execution_count": 30,
            "metadata": {},
            "outputs": [
                {
                    "data": {
                        "text/html": "<div style=\"width:100%;\"><div style=\"position:relative;width:100%;height:0;padding-bottom:60%;\"><span style=\"color:#565656\">Make this Notebook Trusted to load map: File -> Trust Notebook</span><iframe src=\"about:blank\" style=\"position:absolute;width:100%;height:100%;left:0;top:0;border:none !important;\" data-html=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 onload=\"this.contentDocument.open();this.contentDocument.write(atob(this.getAttribute('data-html')));this.contentDocument.close();\" allowfullscreen webkitallowfullscreen mozallowfullscreen></iframe></div></div>",
                        "text/plain": "<folium.folium.Map at 0x7f41308ce940>"
                    },
                    "execution_count": 30,
                    "metadata": {},
                    "output_type": "execute_result"
                }
            ],
            "source": "from folium import plugins\n\n\nmap_toulouse = folium.Map(location=[43.60426, 1.44367], zoom_start=14)\n\ndef add_markers(df):\n    for (j, row) in df.iterrows():\n        label = folium.Popup(row[\"name\"], parse_html=True)\n        folium.CircleMarker(\n            [row[\"lat\"], row[\"lng\"]],\n            radius=5,\n            popup=label,\n            color='red',\n            fill=True,\n            fill_color='#3186cc',\n            fill_opacity=0.7,\n            parse_html=False).add_to(map_toulouse)\n\nadd_markers(df)\nhm_data = df[[\"lat\", \"lng\"]].to_numpy().tolist()\nmap_toulouse.add_child(plugins.HeatMap(hm_data))\n\nmap_toulouse"
        },
        {
            "cell_type": "code",
            "execution_count": null,
            "metadata": {},
            "outputs": [],
            "source": ""
        }
    ],
    "metadata": {
        "kernelspec": {
            "display_name": "Python 3.6",
            "language": "python",
            "name": "python3"
        },
        "language_info": {
            "codemirror_mode": {
                "name": "ipython",
                "version": 3
            },
            "file_extension": ".py",
            "mimetype": "text/x-python",
            "name": "python",
            "nbconvert_exporter": "python",
            "pygments_lexer": "ipython3",
            "version": "3.6.9"
        }
    },
    "nbformat": 4,
    "nbformat_minor": 1
}
